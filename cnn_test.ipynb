{
 "cells": [
  {
   "cell_type": "code",
   "execution_count": 28,
   "metadata": {},
   "outputs": [],
   "source": [
    "import numpy as np\n",
    "import matplotlib.pyplot as plt \n",
    "from scipy.io import wavfile\n",
    "from scipy.signal import spectrogram\n",
    "from scipy.signal import resample\n",
    "from librosa.display import specshow\n",
    "import os\n",
    "import benchmark\n",
    "import utils\n",
    "import pandas as pd"
   ]
  },
  {
   "cell_type": "code",
   "execution_count": 29,
   "metadata": {},
   "outputs": [],
   "source": [
    "#getting all the saxophone wav audios files in an list : audio_files\n",
    "type_wanted = \"bassoon.wav\"\n",
    "directory = r\"C:\\Users\\hippo\\OneDrive\\Bureau\\MINES\\2A\\T2_Data_Sophia\\PROJET\\Bach10_v1.1\"\n",
    "audio_filespath =[]\n",
    "audio_files_tuple = []\n",
    "for root, dirs, files in os.walk(directory):\n",
    "    for filename in files:\n",
    "        #print(os.path.join(root, filename))\n",
    "        if filename[len(filename)-len(type_wanted):len(filename)] == type_wanted :\n",
    "            pathfile = os.path.join(root, filename)\n",
    "            audio_filespath.append(pathfile)\n",
    "            audio_files_tuple.append(wavfile.read(pathfile))"
   ]
  },
  {
   "cell_type": "code",
   "execution_count": 30,
   "metadata": {},
   "outputs": [
    {
     "name": "stdout",
     "output_type": "stream",
     "text": [
      "44100\n"
     ]
    }
   ],
   "source": [
    "sample_rate = audio_files_tuple[0][0]\n",
    "print(sample_rate)\n",
    "new_sample_rate = 32000\n"
   ]
  },
  {
   "cell_type": "code",
   "execution_count": 31,
   "metadata": {},
   "outputs": [],
   "source": [
    "audio_files = []\n",
    "list_audio = []\n",
    "for i in range(len(audio_files_tuple)):\n",
    "    audio_files.append([audio_files_tuple[i][0], audio_files_tuple[i][1].astype(dtype = np.float64)])\n",
    "    list_audio.append(resample(audio_files[i][1], int(len(audio_files[i][1])*new_sample_rate/audio_files[i][0]), window= \"hamming\", domain = \"time\"))\n",
    "\n",
    "audio_1 = audio_files[0][1]\n"
   ]
  },
  {
   "cell_type": "code",
   "execution_count": 32,
   "metadata": {},
   "outputs": [],
   "source": [
    "#Resampling du signal : \n",
    "audio_1 = resample(audio_1, int(len(audio_1)*new_sample_rate/sample_rate), window= \"hamming\", domain = \"time\")\n",
    "audio_1 = audio_1"
   ]
  },
  {
   "cell_type": "code",
   "execution_count": 33,
   "metadata": {},
   "outputs": [
    {
     "name": "stdout",
     "output_type": "stream",
     "text": [
      "640\n"
     ]
    },
    {
     "data": {
      "text/plain": [
       "dtype('float64')"
      ]
     },
     "execution_count": 33,
     "metadata": {},
     "output_type": "execute_result"
    }
   ],
   "source": [
    "temps_paquet = 0.02#0 #20ms\n",
    "taille_paquet = int(temps_paquet *new_sample_rate) #nb_echantillons par paquet\n",
    "print(taille_paquet)\n",
    "num_paquet_choisi = 100\n",
    "pos_sample = num_paquet_choisi*taille_paquet\n",
    "paquet = audio_1[pos_sample:pos_sample + taille_paquet].copy()\n",
    "np.dtype(paquet[0])"
   ]
  },
  {
   "cell_type": "code",
   "execution_count": 34,
   "metadata": {},
   "outputs": [
    {
     "name": "stdout",
     "output_type": "stream",
     "text": [
      "96 [ 35775  43934  47679  58606  83001  88062  92728  93533  99156 105049\n",
      " 107513 109769 112317 115669 118355 119000 135659 138716 144176 151626\n",
      " 178371 186121 190630 202683 213652 222308 233467 236544 238260 239362\n",
      " 253036 266157 270705 287213 288500 292475 307404 310398 322751 331700\n",
      " 332502 342634 350410 358598 363812 370088 374804 384157 389865 391807\n",
      " 405420 414502 420338 431704 445161 462003 475565 478122 489761 491096\n",
      " 498299 500034 501637 510154 513566 528073 537656 549719 552809 558740\n",
      " 560148 569764 588869 593001 602029 618962 621197 626072 628643 631196\n",
      " 634083 635045 647631 659964 666913 689840 701510 703048 724950 730703\n",
      " 741665 747181 761074 771406 780543 791727]\n"
     ]
    }
   ],
   "source": [
    "pos_loss = utils.los_generation(len(audio_1), taille_paquet, 100)\n",
    "print(len(pos_loss), pos_loss)"
   ]
  },
  {
   "cell_type": "code",
   "execution_count": 35,
   "metadata": {},
   "outputs": [],
   "source": [
    "#préparation des datas : \n",
    "def data_prep(list_audio_files, n_audio, taille_paquet, instr = 'Saxphone', prop_train_test = 0.8):\n",
    "    n_files = len(list_audio_files)\n",
    "    n_train = int(n_files*prop_train_test)-1\n",
    "    dir_path = f\"Dataset_{instr}\"\n",
    "    #dir_path = os.path.join(os.path.dirname(os.path.realpath(__file__)),dirname)\n",
    "    list_paths = []\n",
    "    os.mkdir(dir_path)\n",
    "    for i in range(n_files) : \n",
    "        song = list_audio_files[i]\n",
    "        pos_gap = utils.los_generation(len(song), taille_paquet, 110)\n",
    "        for j in range(len(pos_gap)):\n",
    "            if i <= n_train :\n",
    "                audio = song[pos_gap[j]- n_audio: pos_gap[j]]\n",
    "                label = song[pos_gap[j]: pos_gap[j] + taille_paquet]\n",
    "                #label = np.pad(label, (0, taille_paquet))\n",
    "                name = f\"Train_paquet{i}_{j}.wav\"\n",
    "                name_label = f\"Train_label{i}_{j}.wav\"\n",
    "                \n",
    "                #dir_path = os.path.dirname(os.path.realpath(__file__))\n",
    "            if i > n_train : \n",
    "                audio = song[pos_gap[j]- n_audio: pos_gap[j]]\n",
    "                label = song[pos_gap[j]: pos_gap[j] + taille_paquet]\n",
    "                #label = np.pad(label, (0, taille_paquet))\n",
    "                name = f\"Test_paquet{i}_{j}.wav\"\n",
    "                name_label = f\"Test_label{i}_{j}.wav\"\n",
    "                name_label = f\"Test_paquet{i}_{j}.wav\"\n",
    "            path = os.path.join(dir_path,name)\n",
    "            path_label = os.path.join(dir_path,name_label)\n",
    "            list_paths.append([name, name_label])\n",
    "            wavfile.write(path, new_sample_rate, audio)\n",
    "            wavfile.write(path_label, new_sample_rate, label)\n",
    "        df = pd.DataFrame(list_paths, columns = [\"previous_audio\", \"label\"])\n",
    "        name = 'Dataframe.csv'\n",
    "        data_path = os.path.join(dir_path, name)\n",
    "        df.to_csv(data_path)\n",
    "\n"
   ]
  },
  {
   "cell_type": "code",
   "execution_count": null,
   "metadata": {},
   "outputs": [],
   "source": []
  },
  {
   "cell_type": "code",
   "execution_count": 36,
   "metadata": {},
   "outputs": [],
   "source": [
    "#data_prep(list_audio, 2*taille_paquet, taille_paquet)"
   ]
  },
  {
   "cell_type": "code",
   "execution_count": null,
   "metadata": {},
   "outputs": [],
   "source": []
  },
  {
   "cell_type": "code",
   "execution_count": 37,
   "metadata": {},
   "outputs": [],
   "source": [
    "import torch\n",
    "import torch.nn as nn\n",
    "import torch.optim as optim\n",
    "from torch.utils.data import Dataset, DataLoader\n",
    "import torchvision\n"
   ]
  },
  {
   "cell_type": "code",
   "execution_count": 38,
   "metadata": {},
   "outputs": [],
   "source": [
    "class Audio_Loss(Dataset):\n",
    "    \"\"\"Audio loss packet.\"\"\"\n",
    "    def __init__(self, csv_file, root_dir, transform=None):\n",
    "        \"\"\"\n",
    "        Arguments:\n",
    "            csv_file (string): Path to the csv file with annotations.\n",
    "            root_dir (string): Directory with all the audios.\n",
    "            transform (callable, optional): Optional transform to be applied\n",
    "                on a sample.\n",
    "        \"\"\"\n",
    "        self.paths = pd.read_csv(csv_file)\n",
    "        self.root_dir = root_dir\n",
    "        self.transform = transform\n",
    "\n",
    "    def __len__(self):\n",
    "        return len(self.paths)\n",
    "\n",
    "    def __getitem__(self, idx):\n",
    "        if torch.is_tensor(idx):\n",
    "            idx = idx.tolist()\n",
    "        audio_path = os.path.join(self.root_dir, self.paths.iloc[idx]['previous_audio'])\n",
    "        label_path = os.path.join(self.root_dir, self.paths.iloc[idx]['label'])\n",
    "        audio = np.array(wavfile.read(audio_path)[1], dtype = np.float64)\n",
    "        label = np.array(wavfile.read(label_path)[1], dtype = np.float64)\n",
    "        label = np.pad(label, (0, taille_paquet), mode = 'constant')\n",
    "        sample = {'previous_audio': audio, 'label': label}\n",
    "\n",
    "        if self.transform:\n",
    "            sample = self.transform(sample)\n",
    "\n",
    "        return sample['previous_audio'], sample['label']"
   ]
  },
  {
   "cell_type": "code",
   "execution_count": 39,
   "metadata": {},
   "outputs": [],
   "source": [
    "class ToTensor(object):\n",
    "    \"\"\"Convert ndarrays in sample to Tensors.\"\"\"\n",
    "\n",
    "    def __call__(self, sample):\n",
    "        previous_audio, label = sample['previous_audio'], sample['label']\n",
    "\n",
    "        return {'previous_audio': torch.from_numpy(previous_audio),\n",
    "                'label': torch.from_numpy(label)}"
   ]
  },
  {
   "cell_type": "code",
   "execution_count": 40,
   "metadata": {},
   "outputs": [],
   "source": [
    "audio_dataset = Audio_Loss(r\"C:\\Users\\hippo\\OneDrive\\Bureau\\MINES\\2A\\T2_Data_Sophia\\PROJET\\Data-Sophia-\\Dataset_Saxphone\\Dataframe.csv\", \n",
    "                           r\"C:\\Users\\hippo\\OneDrive\\Bureau\\MINES\\2A\\T2_Data_Sophia\\PROJET\\Data-Sophia-\\Dataset_Saxphone\",\n",
    "                           transform=ToTensor())"
   ]
  },
  {
   "cell_type": "code",
   "execution_count": 41,
   "metadata": {},
   "outputs": [],
   "source": [
    "def plot_audio(previous_audio, label) : \n",
    "    \n",
    "    t_1 = np.linspace(0,2*temps_paquet,len(previous_audio))\n",
    "    t_2 = np.linspace(2*temps_paquet,4*temps_paquet,len(label))\n",
    "    plt.plot(t_1, previous_audio, 'b--')\n",
    "    plt.plot(t_2, label, 'r--')\n",
    "    plt.pause(0.001)"
   ]
  },
  {
   "cell_type": "code",
   "execution_count": 46,
   "metadata": {},
   "outputs": [
    {
     "ename": "ValueError",
     "evalue": "not enough values to unpack (expected 3, got 2)",
     "output_type": "error",
     "traceback": [
      "\u001b[1;31m---------------------------------------------------------------------------\u001b[0m",
      "\u001b[1;31mValueError\u001b[0m                                Traceback (most recent call last)",
      "Cell \u001b[1;32mIn[46], line 3\u001b[0m\n\u001b[0;32m      1\u001b[0m fig, axes \u001b[38;5;241m=\u001b[39m plt\u001b[38;5;241m.\u001b[39msubplots(nrows \u001b[38;5;241m=\u001b[39m \u001b[38;5;241m2\u001b[39m, ncols \u001b[38;5;241m=\u001b[39m \u001b[38;5;241m2\u001b[39m, figsize\u001b[38;5;241m=\u001b[39m(\u001b[38;5;241m18\u001b[39m,\u001b[38;5;241m4\u001b[39m))\n\u001b[0;32m      2\u001b[0m ax \u001b[38;5;241m=\u001b[39m axes\u001b[38;5;241m.\u001b[39mflatten()\n\u001b[1;32m----> 3\u001b[0m \u001b[38;5;28;01mfor\u001b[39;00m i, audio, label \u001b[38;5;129;01min\u001b[39;00m \u001b[38;5;28menumerate\u001b[39m(audio_dataset):\n\u001b[0;32m      4\u001b[0m     \u001b[38;5;28mprint\u001b[39m(i, audio\u001b[38;5;241m.\u001b[39mshape, label\u001b[38;5;241m.\u001b[39mshape)\n\u001b[0;32m      6\u001b[0m     \u001b[38;5;66;03m#plt.tight_layout()\u001b[39;00m\n",
      "\u001b[1;31mValueError\u001b[0m: not enough values to unpack (expected 3, got 2)"
     ]
    },
    {
     "data": {
      "image/png": "[encoded data removed]",
      "text/plain": [
       "<Figure size 1800x400 with 4 Axes>"
      ]
     },
     "metadata": {},
     "output_type": "display_data"
    }
   ],
   "source": [
    "fig, axes = plt.subplots(nrows = 2, ncols = 2, figsize=(18,4))\n",
    "ax = axes.flatten()\n",
    "for i, audio in enumerate(audio_dataset):\n",
    "    print(i, audio[0].shape, label[1].shape)\n",
    "\n",
    "    #plt.tight_layout()\n",
    "    ax[i].set_title('Sample #{}'.format(i))\n",
    "    #ax.axis('off')\n",
    "    previous_audio, label = audio, label\n",
    "    t_1 = np.linspace(0,2*temps_paquet,len(previous_audio))\n",
    "    t_2 = np.linspace(2*temps_paquet,4*temps_paquet,len(label))\n",
    "    ax[i].plot(t_1, previous_audio, 'b--')\n",
    "    ax[i].plot(t_2, label, 'g--')\n",
    "\n",
    "    if i == 3:\n",
    "        plt.show()\n",
    "        break"
   ]
  },
  {
   "cell_type": "code",
   "execution_count": 43,
   "metadata": {},
   "outputs": [],
   "source": [
    "# problème : dans un même batch les audios sont liés\n",
    "dataloader = DataLoader(audio_dataset, batch_size=6,\n",
    "                        shuffle=True, num_workers=0)"
   ]
  },
  {
   "cell_type": "code",
   "execution_count": 44,
   "metadata": {},
   "outputs": [],
   "source": [
    "def batch_audio_plot(sample_batched) : \n",
    "    previous_audio_batched, label_batched = sample_batched['previous_audio'], sample_batched['label']\n",
    "    batch_size = len(previous_audio_batched)\n",
    "    #im_size = images_batch.size(2)\n",
    "\n",
    "    #plt.imshow(grid.numpy().transpose((1, 2, 0)))\n",
    "\n",
    "    for i in range(batch_size):\n",
    "        t_1 = np.linspace(0, 2*temps_paquet, len(previous_audio_batched[i]))\n",
    "        t_2 = np.linspace(2*temps_paquet, 4*temps_paquet, len(label_batched[i]))\n",
    "        plt.subplot(1,batch_size, i+1)\n",
    "        plt.plot(t_1, previous_audio_batched[i])\n",
    "        plt.subplot(1, batch_size, i+1)\n",
    "        plt.plot(t_2, label_batched[i])\n",
    "        plt.title('Batch from dataloader')"
   ]
  },
  {
   "cell_type": "code",
   "execution_count": 45,
   "metadata": {},
   "outputs": [
    {
     "ename": "TypeError",
     "evalue": "list indices must be integers or slices, not str",
     "output_type": "error",
     "traceback": [
      "\u001b[1;31m---------------------------------------------------------------------------\u001b[0m",
      "\u001b[1;31mTypeError\u001b[0m                                 Traceback (most recent call last)",
      "Cell \u001b[1;32mIn[45], line 3\u001b[0m\n\u001b[0;32m      1\u001b[0m \u001b[38;5;28;01mif\u001b[39;00m \u001b[38;5;18m__name__\u001b[39m \u001b[38;5;241m==\u001b[39m \u001b[38;5;124m'\u001b[39m\u001b[38;5;124m__main__\u001b[39m\u001b[38;5;124m'\u001b[39m:\n\u001b[0;32m      2\u001b[0m     \u001b[38;5;28;01mfor\u001b[39;00m i_batch, sample_batched \u001b[38;5;129;01min\u001b[39;00m \u001b[38;5;28menumerate\u001b[39m(dataloader):\n\u001b[1;32m----> 3\u001b[0m         \u001b[38;5;28mprint\u001b[39m(i_batch, \u001b[43msample_batched\u001b[49m\u001b[43m[\u001b[49m\u001b[38;5;124;43m'\u001b[39;49m\u001b[38;5;124;43mprevious_audio\u001b[39;49m\u001b[38;5;124;43m'\u001b[39;49m\u001b[43m]\u001b[49m\u001b[38;5;241m.\u001b[39msize(),\n\u001b[0;32m      4\u001b[0m             sample_batched[\u001b[38;5;124m'\u001b[39m\u001b[38;5;124mlabel\u001b[39m\u001b[38;5;124m'\u001b[39m]\u001b[38;5;241m.\u001b[39msize())\n\u001b[0;32m      5\u001b[0m         \u001b[38;5;66;03m# observe 4th batch and stop.\u001b[39;00m\n\u001b[0;32m      6\u001b[0m         \u001b[38;5;28;01mif\u001b[39;00m i_batch \u001b[38;5;241m==\u001b[39m \u001b[38;5;241m10\u001b[39m:\n",
      "\u001b[1;31mTypeError\u001b[0m: list indices must be integers or slices, not str"
     ]
    }
   ],
   "source": [
    "if __name__ == '__main__':\n",
    "    for i_batch, sample_batched in enumerate(dataloader):\n",
    "        print(i_batch, sample_batched['previous_audio'].size(),\n",
    "            sample_batched['label'].size())\n",
    "        # observe 4th batch and stop.\n",
    "        if i_batch == 10:\n",
    "            plt.figure()\n",
    "            batch_audio_plot(sample_batched)\n",
    "            plt.axis('off')\n",
    "            plt.ioff()\n",
    "            plt.show()\n",
    "            break"
   ]
  },
  {
   "cell_type": "code",
   "execution_count": null,
   "metadata": {},
   "outputs": [
    {
     "name": "stdout",
     "output_type": "stream",
     "text": [
      "Using cpu device\n"
     ]
    }
   ],
   "source": [
    "device = (\n",
    "    \"cuda\"\n",
    "    if torch.cuda.is_available()\n",
    "    else \"mps\"\n",
    "    if torch.backends.mps.is_available()\n",
    "    else \"cpu\"\n",
    ")\n",
    "print(f\"Using {device} device\")"
   ]
  },
  {
   "cell_type": "code",
   "execution_count": null,
   "metadata": {},
   "outputs": [],
   "source": [
    "class NeuralNetwork(nn.Module):\n",
    "    def __init__(self):\n",
    "        super().__init__()\n",
    "        self.flatten = nn.Flatten()\n",
    "        self.linear_relu_stack = nn.Sequential(\n",
    "            nn.Linear(2*taille_paquet, 1024),\n",
    "            nn.ReLU(),\n",
    "            nn.Linear(1024, 640),\n",
    "            nn.ReLU(),\n",
    "            nn.Linear(640, taille_paquet),\n",
    "        )\n",
    "\n",
    "    def forward(self, x):\n",
    "        x = self.flatten(x)\n",
    "        logits = self.linear_relu_stack(x)\n",
    "        return logits"
   ]
  },
  {
   "cell_type": "code",
   "execution_count": null,
   "metadata": {},
   "outputs": [
    {
     "name": "stdout",
     "output_type": "stream",
     "text": [
      "NeuralNetwork(\n",
      "  (flatten): Flatten(start_dim=1, end_dim=-1)\n",
      "  (linear_relu_stack): Sequential(\n",
      "    (0): Linear(in_features=1280, out_features=1024, bias=True)\n",
      "    (1): ReLU()\n",
      "    (2): Linear(in_features=1024, out_features=640, bias=True)\n",
      "    (3): ReLU()\n",
      "    (4): Linear(in_features=640, out_features=640, bias=True)\n",
      "  )\n",
      ")\n"
     ]
    }
   ],
   "source": [
    "model = NeuralNetwork().to(device)\n",
    "print(model)"
   ]
  },
  {
   "cell_type": "code",
   "execution_count": null,
   "metadata": {},
   "outputs": [
    {
     "ename": "NameError",
     "evalue": "name 'model' is not defined",
     "output_type": "error",
     "traceback": [
      "\u001b[1;31m---------------------------------------------------------------------------\u001b[0m",
      "\u001b[1;31mNameError\u001b[0m                                 Traceback (most recent call last)",
      "Cell \u001b[1;32mIn[25], line 1\u001b[0m\n\u001b[1;32m----> 1\u001b[0m train \u001b[38;5;241m=\u001b[39m \u001b[43mmodel\u001b[49m(dataloader)\n",
      "\u001b[1;31mNameError\u001b[0m: name 'model' is not defined"
     ]
    }
   ],
   "source": [
    "train = model(dataloader)\n"
   ]
  },
  {
   "cell_type": "code",
   "execution_count": null,
   "metadata": {},
   "outputs": [],
   "source": []
  }
 ],
 "metadata": {
  "kernelspec": {
   "display_name": "base",
   "language": "python",
   "name": "python3"
  },
  "language_info": {
   "codemirror_mode": {
    "name": "ipython",
    "version": 3
   },
   "file_extension": ".py",
   "mimetype": "text/x-python",
   "name": "python",
   "nbconvert_exporter": "python",
   "pygments_lexer": "ipython3",
   "version": "3.10.10"
  }
 },
 "nbformat": 4,
 "nbformat_minor": 2
}
